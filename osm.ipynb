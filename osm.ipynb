{
 "cells": [
  {
   "cell_type": "code",
   "execution_count": null,
   "metadata": {},
   "outputs": [],
   "source": [
    "import pandas as pd\n",
    "import numpy as np\n",
    "\n",
    "import networkx as nx\n",
    "import osmnx as ox"
   ]
  },
  {
   "cell_type": "code",
   "execution_count": null,
   "metadata": {},
   "outputs": [],
   "source": [
    "G = ox.graph_from_place('Provincia de Santiago, Chile', network_type='drive')"
   ]
  },
  {
   "cell_type": "code",
   "execution_count": null,
   "metadata": {},
   "outputs": [],
   "source": [
    "pickup_lat = -33.456266650\n",
    "pickup_lon = -70.701085\t\n",
    "dropoff_lat = -33.43727179\n",
    "dropoff_lon = -70.65060895\t"
   ]
  },
  {
   "cell_type": "code",
   "execution_count": null,
   "metadata": {},
   "outputs": [],
   "source": [
    "# G = ox.graph_from_point((pickup_lat, pickup_lon), distance=3000,network_type='drive')\n",
    "# (dropoff_lat, dropoff_lon)\n",
    "ox.plot_graph(ox.project_graph(G))"
   ]
  },
  {
   "cell_type": "code",
   "execution_count": null,
   "metadata": {},
   "outputs": [],
   "source": [
    "orig_node = ox.get_nearest_node(G, (pickup_lat, pickup_lon))\n",
    "dest_node = ox.get_nearest_node(G, (dropoff_lat, dropoff_lon))\n",
    "route = nx.shortest_path(G, orig_node, dest_node, weight='length')\n",
    "route_lenght = nx.shortest_path_length(G, orig_node, dest_node, weight='length')\n",
    "# fig, ax = ox.plot_graph_route(G, route, node_size=0)"
   ]
  }
 ],
 "metadata": {
  "language_info": {
   "name": "python"
  },
  "orig_nbformat": 4
 },
 "nbformat": 4,
 "nbformat_minor": 2
}
